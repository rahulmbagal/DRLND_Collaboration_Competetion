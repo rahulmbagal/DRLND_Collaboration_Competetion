{
 "cells": [
  {
   "cell_type": "markdown",
   "metadata": {},
   "source": [
    "# Collaboration and Competition\n",
    "\n",
    "---\n",
    "\n",
    "In this notebook, you will learn how to use the Unity ML-Agents environment for the third project of the [Deep Reinforcement Learning Nanodegree](https://www.udacity.com/course/deep-reinforcement-learning-nanodegree--nd893) program.\n",
    "\n",
    "### 1. Start the Environment\n",
    "\n",
    "We begin by importing the necessary packages.  If the code cell below returns an error, please revisit the project instructions to double-check that you have installed [Unity ML-Agents](https://github.com/Unity-Technologies/ml-agents/blob/master/docs/Installation.md) and [NumPy](http://www.numpy.org/)."
   ]
  },
  {
   "cell_type": "code",
   "execution_count": 7,
   "metadata": {},
   "outputs": [],
   "source": [
    "from unityagents import UnityEnvironment\n",
    "from multi_ddpg_agent import ReplayBuffer\n",
    "#from maddpg import MADDPG\n",
    "import torch\n",
    "import numpy as np\n",
    "from tensorboardX import SummaryWriter\n",
    "import os\n",
    "#from utilities import transpose_list, transpose_to_tensor\n",
    "import time\n",
    "from multi_ddpg_agent import MADDPG \n",
    "from collections import deque\n",
    "import matplotlib.pyplot as plt\n",
    "%matplotlib inline\n",
    "\n",
    "# keep training awake\n",
    "#from workspace_utils import keep_awake\n",
    "\n",
    "# for saving gif\n",
    "import imageio"
   ]
  },
  {
   "cell_type": "markdown",
   "metadata": {},
   "source": [
    "Next, we will start the environment!  **_Before running the code cell below_**, change the `file_name` parameter to match the location of the Unity environment that you downloaded.\n",
    "\n",
    "- **Mac**: `\"path/to/Tennis.app\"`\n",
    "- **Windows** (x86): `\"path/to/Tennis_Windows_x86/Tennis.exe\"`\n",
    "- **Windows** (x86_64): `\"path/to/Tennis_Windows_x86_64/Tennis.exe\"`\n",
    "- **Linux** (x86): `\"path/to/Tennis_Linux/Tennis.x86\"`\n",
    "- **Linux** (x86_64): `\"path/to/Tennis_Linux/Tennis.x86_64\"`\n",
    "- **Linux** (x86, headless): `\"path/to/Tennis_Linux_NoVis/Tennis.x86\"`\n",
    "- **Linux** (x86_64, headless): `\"path/to/Tennis_Linux_NoVis/Tennis.x86_64\"`\n",
    "\n",
    "For instance, if you are using a Mac, then you downloaded `Tennis.app`.  If this file is in the same folder as the notebook, then the line below should appear as follows:\n",
    "```\n",
    "env = UnityEnvironment(file_name=\"Tennis.app\")\n",
    "```"
   ]
  },
  {
   "cell_type": "code",
   "execution_count": 2,
   "metadata": {},
   "outputs": [
    {
     "name": "stderr",
     "output_type": "stream",
     "text": [
      "INFO:unityagents:\n",
      "'Academy' started successfully!\n",
      "Unity Academy name: Academy\n",
      "        Number of Brains: 1\n",
      "        Number of External Brains : 1\n",
      "        Lesson number : 0\n",
      "        Reset Parameters :\n",
      "\t\t\n",
      "Unity brain name: TennisBrain\n",
      "        Number of Visual Observations (per agent): 0\n",
      "        Vector Observation space type: continuous\n",
      "        Vector Observation space size (per agent): 8\n",
      "        Number of stacked Vector Observation: 3\n",
      "        Vector Action space type: continuous\n",
      "        Vector Action space size (per agent): 2\n",
      "        Vector Action descriptions: , \n"
     ]
    }
   ],
   "source": [
    "env = UnityEnvironment(file_name=\"Tennis_Linux/Tennis.x86_64\")"
   ]
  },
  {
   "cell_type": "markdown",
   "metadata": {},
   "source": [
    "Environments contain **_brains_** which are responsible for deciding the actions of their associated agents. Here we check for the first brain available, and set it as the default brain we will be controlling from Python."
   ]
  },
  {
   "cell_type": "code",
   "execution_count": 3,
   "metadata": {},
   "outputs": [],
   "source": [
    "# get the default brain\n",
    "brain_name = env.brain_names[0]\n",
    "brain = env.brains[brain_name]"
   ]
  },
  {
   "cell_type": "markdown",
   "metadata": {},
   "source": [
    "### 2. Examine the State and Action Spaces\n",
    "\n",
    "In this environment, two agents control rackets to bounce a ball over a net. If an agent hits the ball over the net, it receives a reward of +0.1.  If an agent lets a ball hit the ground or hits the ball out of bounds, it receives a reward of -0.01.  Thus, the goal of each agent is to keep the ball in play.\n",
    "\n",
    "The observation space consists of 8 variables corresponding to the position and velocity of the ball and racket. Two continuous actions are available, corresponding to movement toward (or away from) the net, and jumping. \n",
    "\n",
    "Run the code cell below to print some information about the environment."
   ]
  },
  {
   "cell_type": "code",
   "execution_count": 4,
   "metadata": {},
   "outputs": [
    {
     "name": "stdout",
     "output_type": "stream",
     "text": [
      "Number of agents: 2\n",
      "Size of each action: 2\n",
      "There are 2 agents. Each observes a state with length: 24\n",
      "The state for the first agent looks like: [ 0.          0.          0.          0.          0.          0.\n",
      "  0.          0.          0.          0.          0.          0.\n",
      "  0.          0.          0.          0.         -6.65278625 -1.5\n",
      " -0.          0.          6.83172083  6.         -0.          0.        ]\n"
     ]
    }
   ],
   "source": [
    "# reset the environment\n",
    "env_info = env.reset(train_mode=True)[brain_name]\n",
    "\n",
    "# number of agents \n",
    "num_agents = len(env_info.agents)\n",
    "print('Number of agents:', num_agents)\n",
    "\n",
    "# size of each action\n",
    "action_size = brain.vector_action_space_size\n",
    "print('Size of each action:', action_size)\n",
    "\n",
    "# examine the state space \n",
    "states = env_info.vector_observations\n",
    "state_size = states.shape[1]\n",
    "print('There are {} agents. Each observes a state with length: {}'.format(states.shape[0], state_size))\n",
    "print('The state for the first agent looks like:', states[0])"
   ]
  },
  {
   "cell_type": "markdown",
   "metadata": {},
   "source": [
    "### 3. Take Random Actions in the Environment\n",
    "\n",
    "In the next code cell, you will learn how to use the Python API to control the agents and receive feedback from the environment.\n",
    "\n",
    "Once this cell is executed, you will watch the agents' performance, if they select actions at random with each time step.  A window should pop up that allows you to observe the agents.\n",
    "\n",
    "Of course, as part of the project, you'll have to change the code so that the agents are able to use their experiences to gradually choose better actions when interacting with the environment!"
   ]
  },
  {
   "cell_type": "code",
   "execution_count": 5,
   "metadata": {},
   "outputs": [
    {
     "name": "stdout",
     "output_type": "stream",
     "text": [
      "Score (max over agents) from episode 1: 0.0\n"
     ]
    }
   ],
   "source": [
    "for i in range(1, 2):                                      # play game for 5 episodes\n",
    "    env_info = env.reset(train_mode=False)[brain_name]     # reset the environment    \n",
    "    states = env_info.vector_observations                  # get the current state (for each agent)\n",
    "    scores = np.zeros(num_agents)                          # initialize the score (for each agent)\n",
    "    while True:\n",
    "        actions = np.random.randn(num_agents, action_size) # select an action (for each agent)\n",
    "        actions = np.clip(actions, -1, 1)                  # all actions between -1 and 1\n",
    "        env_info = env.step(actions)[brain_name]           # send all actions to tne environment\n",
    "        next_states = env_info.vector_observations         # get next state (for each agent)\n",
    "        rewards = env_info.rewards                         # get reward (for each agent)\n",
    "        dones = env_info.local_done                        # see if episode finished\n",
    "        scores += env_info.rewards                         # update the score (for each agent)\n",
    "        states = next_states                               # roll over states to next time step\n",
    "        if np.any(dones):                                  # exit loop if episode finished\n",
    "            break\n",
    "    print('Score (max over agents) from episode {}: {}'.format(i, np.max(scores)))"
   ]
  },
  {
   "cell_type": "markdown",
   "metadata": {},
   "source": [
    "When finished, you can close the environment."
   ]
  },
  {
   "cell_type": "markdown",
   "metadata": {},
   "source": [
    "### 4. It's Your Turn!\n",
    "\n",
    "Now it's your turn to train your own agent to solve the environment!  When training the environment, set `train_mode=True`, so that the line for resetting the environment looks like the following:\n",
    "```python\n",
    "env_info = env.reset(train_mode=True)[brain_name]\n",
    "```"
   ]
  },
  {
   "cell_type": "code",
   "execution_count": 8,
   "metadata": {
    "scrolled": false
   },
   "outputs": [
    {
     "name": "stdout",
     "output_type": "stream",
     "text": [
      "24\n",
      "action_size:  2\n",
      "r seed is:  0\n",
      "Episode 1\tAvg score: 0.00\n",
      "Episode 101\tAvg score: 0.00\n",
      "Episode 201\tAvg score: 0.00\n",
      "Episode 301\tAvg score: 0.00\n",
      "Episode 401\tAvg score: 0.00\n",
      "Episode 501\tAvg score: 0.01\n",
      "Episode 601\tAvg score: 0.00\n",
      "Episode 701\tAvg score: 0.00\n",
      "Episode 801\tAvg score: 0.00\n",
      "Episode 901\tAvg score: 0.00\n",
      "Episode 1001\tAvg score: 0.00\n",
      "Episode 1101\tAvg score: 0.00\n",
      "Episode 1201\tAvg score: 0.00\n",
      "Episode 1301\tAvg score: 0.00\n",
      "Episode 1401\tAvg score: 0.00\n",
      "Episode 1501\tAvg score: 0.00\n",
      "Episode 1601\tAvg score: 0.02\n",
      "Episode 1701\tAvg score: 0.02\n",
      "Episode 1801\tAvg score: 0.01\n",
      "Episode 1901\tAvg score: 0.01\n",
      "Episode 2001\tAvg score: 0.02\n",
      "Episode 2101\tAvg score: 0.01\n",
      "Episode 2201\tAvg score: 0.03\n",
      "Episode 2301\tAvg score: 0.03\n",
      "Episode 2401\tAvg score: 0.04\n",
      "Episode 2501\tAvg score: 0.03\n",
      "Episode 2601\tAvg score: 0.04\n",
      "Episode 2701\tAvg score: 0.05\n",
      "Episode 2801\tAvg score: 0.13\n",
      "Episode 2901\tAvg score: 0.19\n",
      "Episode 3001\tAvg score: 0.17\n",
      "Episode 3101\tAvg score: 0.19\n",
      "Episode 3201\tAvg score: 0.31\n",
      "Episode 3301\tAvg score: 0.23\n",
      "Episode 3401\tAvg score: 0.28\n",
      "Episode 3501\tAvg score: 0.24\n",
      "Episode 3601\tAvg score: 0.39\n",
      "Episode 3701\tAvg score: 0.43\n",
      "Episode 3801\tAvg score: 0.42\n",
      "Solved! In episode: 3896 \tAvg score: 0.51\n"
     ]
    },
    {
     "data": {
      "image/png": "[encoded data removed]",
      "text/plain": [
       "<Figure size 432x288 with 1 Axes>"
      ]
     },
     "metadata": {
      "needs_background": "light"
     },
     "output_type": "display_data"
    },
    {
     "data": {
      "image/png": "[encoded data removed]",
      "text/plain": [
       "<Figure size 432x288 with 1 Axes>"
      ]
     },
     "metadata": {
      "needs_background": "light"
     },
     "output_type": "display_data"
    }
   ],
   "source": [
    "\n",
    "scores_deque = deque(maxlen=100)\n",
    "scores = []\n",
    "scores_avg = []\n",
    "episodes = 100000\n",
    "\n",
    "PRINT_EVERY = 100\n",
    "\n",
    "print(state_size)\n",
    "print('action_size: ', action_size)\n",
    "maddpgagent = MADDPG(2,state_size, action_size, 0) \n",
    "\n",
    "for e in range(episodes):                                    # play game for 5 episodes\n",
    "    env_info = env.reset(train_mode=True)[brain_name]     # reset the environment    \n",
    "    states = env_info.vector_observations                  # get the current state (for each agent)\n",
    "    score = np.zeros((num_agents,))\n",
    "    \n",
    "    while True:\n",
    "        actions = maddpgagent.act(states)\n",
    "        env_info = env.step(actions)[brain_name]           # send all actions to tne environment\n",
    "        \n",
    "        next_states = env_info.vector_observations\n",
    "        rewards = env_info.rewards \n",
    "        re = np.asarray(rewards)\n",
    "\n",
    "        \n",
    "        dones = env_info.local_done  \n",
    "        \n",
    "        score += np.array(re)\n",
    "       \n",
    "        maddpgagent.step(states, actions, rewards, next_states, dones)\n",
    "        \n",
    "        states = next_states\n",
    "        \n",
    "        if any(dones):                                 \n",
    "            break\n",
    "        \n",
    " \n",
    "    score_max = np.max(score)\n",
    "    scores.append(score_max)\n",
    "    scores_deque.append(score_max)\n",
    "    score_avg = np.mean(scores_deque)\n",
    "    scores_avg.append(score_avg)\n",
    "    \n",
    "    if score_avg >= 0.5:\n",
    "        maddpgagent.save_weights()\n",
    "        print(\"\\rSolved! In episode: {} \\tAvg score: {:.2f}\".format(e+1, score_avg))\n",
    "        break\n",
    "    if e % PRINT_EVERY == 0:\n",
    "        print('\\rEpisode {}\\tAvg score: {:.2f}'.format(e+1, score_avg))\n",
    "    \n",
    "fig = plt.figure()\n",
    "ax = fig.add_subplot(111)\n",
    "plt.plot(np.arange(1, len(scores)+1), scores)\n",
    "plt.ylabel('Score')\n",
    "plt.xlabel('Episode #')\n",
    "plt.show()\n",
    "\n",
    "fig = plt.figure()\n",
    "ax = fig.add_subplot(111)\n",
    "plt.plot(np.arange(1, len(scores_avg)+1), scores_avg)\n",
    "plt.ylabel('Average Score')\n",
    "plt.xlabel('Episode #')\n",
    "plt.show()"
   ]
  },
  {
   "cell_type": "code",
   "execution_count": 15,
   "metadata": {},
   "outputs": [],
   "source": [
    "def maddpgrunner(maddpgagent, episodes = 1000000, print_every=10, stable_episode_count=100, target_score = 30):\n",
    "    \n",
    "    \n",
    "    scores_deque = deque(maxlen=stable_episode_count)\n",
    "    scores = []\n",
    "    scores_avg = []\n",
    "    \n",
    "    episodes_start = time.time()\n",
    "    \n",
    "    for i_episode in range(1, episodes+1):                                    # play game for 5 episodes\n",
    "        env_info = env.reset(train_mode=True)[brain_name]     # reset the environment    \n",
    "        states = env_info.vector_observations                  # get the current state (for each agent)\n",
    "        score = np.zeros((num_agents,))\n",
    "\n",
    "        while True:\n",
    "            actions = maddpgagent.act(states)\n",
    "            env_info = env.step(actions)[brain_name]           # send all actions to tne environment\n",
    "\n",
    "            next_states = env_info.vector_observations\n",
    "            rewards = env_info.rewards \n",
    "            re = np.asarray(rewards)\n",
    "\n",
    "\n",
    "            dones = env_info.local_done  \n",
    "\n",
    "            score += np.array(re)\n",
    "\n",
    "            maddpgagent.step(states, actions, rewards, next_states, dones)\n",
    "\n",
    "            states = next_states\n",
    "\n",
    "            if any(dones):                                 \n",
    "                break\n",
    "\n",
    "\n",
    "        score_max = np.max(score)\n",
    "        scores.append(score_max)\n",
    "        scores_deque.append(score_max)\n",
    "        score_avg = np.mean(scores_deque)\n",
    "        scores_avg.append(score_avg)\n",
    "\n",
    "    \n",
    "\n",
    "        if np.mean(scores_deque) <= target_score:\n",
    "            if i_episode % print_every == 0:\n",
    "                episodes_end = time.time()\n",
    "                print('\\rEpisode {}\\tAverage score in the latest {} episodes: \\\n",
    "                      {}'.format(i_episode, i_episode if i_episode <= stable_episode_count \\\n",
    "                                 else stable_episode_count, np.mean(scores_deque)))\n",
    "                print('\\rLast {} episodes took {} seconds'.format(print_every, episodes_end - episodes_start))\n",
    "                episodes_start = time.time()\n",
    "        else:\n",
    "            maddpgagent.save_weights()\n",
    "            print('\\rEpisode {}\\tAverage score in the latest {} episodes: \\\n",
    "                    {}'.format(i_episode, i_episode if i_episode <= stable_episode_count \\\n",
    "                               else stable_episode_count, np.mean(scores_deque)))\n",
    "            print('\\r\\rThe score average is over {} in the last {} episodes. \\\n",
    "                    Stop the training.'.format(target_score, stable_episode_count))\n",
    "            break\n",
    "    \n",
    "        \n",
    "    return scores, scores_avg"
   ]
  },
  {
   "cell_type": "code",
   "execution_count": 16,
   "metadata": {},
   "outputs": [],
   "source": [
    "def plotGraphs(scorelist, cols = 2, rows = 4, size = (16, 9)):\n",
    "    '''\n",
    "    Display images in a grid\n",
    "    '''\n",
    "    \n",
    "    number_of_images = len(scorelist)\n",
    "    \n",
    "    if (rows == 1 and cols == 1):\n",
    "        fig = plt.figure()\n",
    "        ax = fig.add_subplot(111)\n",
    "        plt.plot(np.arange(len(scorelist[0])), scorelist[0])\n",
    "        plt.ylabel('Score')\n",
    "        plt.xlabel('Episode #')\n",
    "        plt.show()\n",
    "    else:\n",
    "        figure, axes = plt.subplots(rows, cols, figsize = size)\n",
    "        indices = range(number_of_images)\n",
    "        figure.subplots_adjust(hspace = 0.5)\n",
    "        print(axes)\n",
    "        axeslist = [item for item in axes]\n",
    "        for ax, index in zip(axeslist, indices):\n",
    "            np.delete(axeslist, 0, 0)\n",
    "            if index < number_of_images:\n",
    "                ax.plot(np.arange(1, len(scorelist[index])+1), scorelist[index])\n",
    "                ax.set_title(\"Batch_size: \" + str(batch_sizes[index]))\n",
    "                ax.set_xlabel(\"Episode #\")\n",
    "                ax.set_ylabel(\"Score\")"
   ]
  },
  {
   "cell_type": "code",
   "execution_count": 17,
   "metadata": {},
   "outputs": [
    {
     "name": "stdout",
     "output_type": "stream",
     "text": [
      "r seed is:  17\n",
      "Episode 40\tAverage score in the latest 40 episodes:                       0.0\n",
      "Last 40 episodes took 10.342173099517822 seconds\n",
      "Episode 80\tAverage score in the latest 80 episodes:                       0.0\n",
      "Last 40 episodes took 14.377176284790039 seconds\n",
      "Episode 120\tAverage score in the latest 100 episodes:                       0.0\n",
      "Last 40 episodes took 13.955343246459961 seconds\n",
      "Episode 160\tAverage score in the latest 100 episodes:                       0.0\n",
      "Last 40 episodes took 13.75940465927124 seconds\n",
      "Episode 200\tAverage score in the latest 100 episodes:                       0.0\n",
      "Last 40 episodes took 14.30073356628418 seconds\n",
      "Episode 240\tAverage score in the latest 100 episodes:                       0.004000000059604645\n",
      "Last 40 episodes took 16.36313819885254 seconds\n",
      "Episode 280\tAverage score in the latest 100 episodes:                       0.005900000091642142\n",
      "Last 40 episodes took 14.721856832504272 seconds\n",
      "Episode 320\tAverage score in the latest 100 episodes:                       0.007500000130385161\n",
      "Last 40 episodes took 15.41009783744812 seconds\n",
      "Episode 360\tAverage score in the latest 100 episodes:                       0.004600000083446503\n",
      "Last 40 episodes took 13.915063858032227 seconds\n",
      "Episode 400\tAverage score in the latest 100 episodes:                       0.0018000000342726708\n",
      "Last 40 episodes took 14.23897933959961 seconds\n",
      "Episode 440\tAverage score in the latest 100 episodes:                       0.0009000000171363354\n",
      "Last 40 episodes took 13.785641431808472 seconds\n",
      "Episode 480\tAverage score in the latest 100 episodes:                       0.0009000000171363354\n",
      "Last 40 episodes took 14.042312145233154 seconds\n",
      "Episode 520\tAverage score in the latest 100 episodes:                       0.0\n",
      "Last 40 episodes took 13.795057535171509 seconds\n",
      "Episode 560\tAverage score in the latest 100 episodes:                       0.0\n",
      "Last 40 episodes took 13.805487394332886 seconds\n",
      "Episode 600\tAverage score in the latest 100 episodes:                       0.0020000000298023225\n",
      "Last 40 episodes took 14.42814302444458 seconds\n",
      "Episode 640\tAverage score in the latest 100 episodes:                       0.008700000140815973\n",
      "Last 40 episodes took 17.358475923538208 seconds\n",
      "Episode 680\tAverage score in the latest 100 episodes:                       0.010700000170618295\n",
      "Last 40 episodes took 14.963494777679443 seconds\n",
      "Episode 720\tAverage score in the latest 100 episodes:                       0.008800000138580798\n",
      "Last 40 episodes took 14.162359714508057 seconds\n",
      "Episode 760\tAverage score in the latest 100 episodes:                       0.0020000000298023225\n",
      "Last 40 episodes took 13.571906328201294 seconds\n",
      "Episode 800\tAverage score in the latest 100 episodes:                       0.0\n",
      "Last 40 episodes took 13.17495608329773 seconds\n",
      "Episode 840\tAverage score in the latest 100 episodes:                       0.0010000000149011613\n",
      "Last 40 episodes took 13.903045892715454 seconds\n",
      "Episode 880\tAverage score in the latest 100 episodes:                       0.0030000000447034836\n",
      "Last 40 episodes took 14.359294414520264 seconds\n",
      "Episode 920\tAverage score in the latest 100 episodes:                       0.0020000000298023225\n",
      "Last 40 episodes took 13.503957033157349 seconds\n",
      "Episode 960\tAverage score in the latest 100 episodes:                       0.0010000000149011613\n",
      "Last 40 episodes took 14.660313367843628 seconds\n",
      "Episode 1000\tAverage score in the latest 100 episodes:                       0.0010000000149011613\n",
      "Last 40 episodes took 13.608603239059448 seconds\n",
      "Episode 1040\tAverage score in the latest 100 episodes:                       0.0020000000298023225\n",
      "Last 40 episodes took 14.635345697402954 seconds\n",
      "Episode 1080\tAverage score in the latest 100 episodes:                       0.012000000178813934\n",
      "Last 40 episodes took 20.794713973999023 seconds\n",
      "Episode 1098\tAverage score in the latest 100 episodes:                     0.020000000298023225\n",
      "The score average is over 0.02 in the last 100 episodes.                     Stop the training.\n",
      "Batch size:  100  took  401.69665479660034  seconds.\n",
      "\n",
      "Elapsed  401.69737219810486  seconds.\n"
     ]
    }
   ],
   "source": [
    "start = time.time()\n",
    "\n",
    "batch_sizes = [100]\n",
    "\n",
    "scorelist = []\n",
    "avgscorelist = []\n",
    "batch_times = []\n",
    "\n",
    "for batch_size in batch_sizes:\n",
    "    loopstart = time.time()\n",
    "    maddpgagent = MADDPG(2, state_size=state_size, action_size=action_size, rand_seed=17, BATCH_SIZE=batch_size)\n",
    "    scores, scores_avg = maddpgrunner(maddpgagent, print_every=40, stable_episode_count=100, target_score=0.02)\n",
    "    scorelist.append(scores)\n",
    "    avgscorelist.append(scores_avg)\n",
    "    loopend = time.time()\n",
    "    print(\"\\rBatch size: \", batch_size, \" took \", loopend - loopstart, \" seconds.\\n\")\n",
    "    batch_times.append(loopend - loopstart)\n",
    "\n",
    "end = time.time()\n",
    "print('Elapsed ', end - start, ' seconds.')"
   ]
  },
  {
   "cell_type": "code",
   "execution_count": null,
   "metadata": {},
   "outputs": [],
   "source": []
  }
 ],
 "metadata": {
  "kernelspec": {
   "display_name": "drlnd",
   "language": "python",
   "name": "drlnd"
  },
  "language_info": {
   "codemirror_mode": {
    "name": "ipython",
    "version": 3
   },
   "file_extension": ".py",
   "mimetype": "text/x-python",
   "name": "python",
   "nbconvert_exporter": "python",
   "pygments_lexer": "ipython3",
   "version": "3.6.7"
  }
 },
 "nbformat": 4,
 "nbformat_minor": 2
}
